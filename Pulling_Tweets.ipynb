{
  "cells": [
    {
      "cell_type": "markdown",
      "metadata": {
        "id": "view-in-github",
        "colab_type": "text"
      },
      "source": [
        "<a href=\"https://colab.research.google.com/github/LabeebHameed/GCollab_Tweet/blob/main/Pulling_Tweets.ipynb\" target=\"_parent\"><img src=\"https://colab.research.google.com/assets/colab-badge.svg\" alt=\"Open In Colab\"/></a>"
      ]
    },
    {
      "cell_type": "code",
      "execution_count": 1,
      "metadata": {
        "id": "qZNCzOwpvSVv",
        "colab": {
          "base_uri": "https://localhost:8080/"
        },
        "outputId": "690aed0a-9fbe-4467-ea03-5f041a2b9892",
        "collapsed": true
      },
      "outputs": [
        {
          "output_type": "stream",
          "name": "stdout",
          "text": [
            "Collecting git+https://github.com/tweepy/tweepy.git\n",
            "  Cloning https://github.com/tweepy/tweepy.git to /tmp/pip-req-build-69kkmsx0\n",
            "  Running command git clone --filter=blob:none --quiet https://github.com/tweepy/tweepy.git /tmp/pip-req-build-69kkmsx0\n",
            "  Resolved https://github.com/tweepy/tweepy.git to commit db28c0e84826485755eb7fcef0c30f75395dff5f\n",
            "  Installing build dependencies ... \u001b[?25l\u001b[?25hdone\n",
            "  Getting requirements to build wheel ... \u001b[?25l\u001b[?25hdone\n",
            "  Preparing metadata (pyproject.toml) ... \u001b[?25l\u001b[?25hdone\n",
            "Requirement already satisfied: oauthlib<4,>=3.2.0 in /usr/local/lib/python3.11/dist-packages (from tweepy==4.15.0) (3.2.2)\n",
            "Requirement already satisfied: requests<3,>=2.27.0 in /usr/local/lib/python3.11/dist-packages (from tweepy==4.15.0) (2.32.3)\n",
            "Requirement already satisfied: requests-oauthlib<3,>=1.2.0 in /usr/local/lib/python3.11/dist-packages (from tweepy==4.15.0) (2.0.0)\n",
            "Requirement already satisfied: charset-normalizer<4,>=2 in /usr/local/lib/python3.11/dist-packages (from requests<3,>=2.27.0->tweepy==4.15.0) (3.4.1)\n",
            "Requirement already satisfied: idna<4,>=2.5 in /usr/local/lib/python3.11/dist-packages (from requests<3,>=2.27.0->tweepy==4.15.0) (3.10)\n",
            "Requirement already satisfied: urllib3<3,>=1.21.1 in /usr/local/lib/python3.11/dist-packages (from requests<3,>=2.27.0->tweepy==4.15.0) (2.3.0)\n",
            "Requirement already satisfied: certifi>=2017.4.17 in /usr/local/lib/python3.11/dist-packages (from requests<3,>=2.27.0->tweepy==4.15.0) (2025.1.31)\n"
          ]
        }
      ],
      "source": [
        "pip install git+https://github.com/tweepy/tweepy.git"
      ]
    },
    {
      "cell_type": "code",
      "source": [
        "pip install --upgrade tweepy"
      ],
      "metadata": {
        "collapsed": true,
        "id": "stW_iw6SbJRZ",
        "outputId": "5c654914-1d7a-4f05-c9cd-0e4e282b92cd",
        "colab": {
          "base_uri": "https://localhost:8080/"
        }
      },
      "execution_count": 7,
      "outputs": [
        {
          "output_type": "stream",
          "name": "stdout",
          "text": [
            "Requirement already satisfied: tweepy in /usr/local/lib/python3.11/dist-packages (4.15.0)\n",
            "Requirement already satisfied: oauthlib<4,>=3.2.0 in /usr/local/lib/python3.11/dist-packages (from tweepy) (3.2.2)\n",
            "Requirement already satisfied: requests<3,>=2.27.0 in /usr/local/lib/python3.11/dist-packages (from tweepy) (2.32.3)\n",
            "Requirement already satisfied: requests-oauthlib<3,>=1.2.0 in /usr/local/lib/python3.11/dist-packages (from tweepy) (2.0.0)\n",
            "Requirement already satisfied: charset-normalizer<4,>=2 in /usr/local/lib/python3.11/dist-packages (from requests<3,>=2.27.0->tweepy) (3.4.1)\n",
            "Requirement already satisfied: idna<4,>=2.5 in /usr/local/lib/python3.11/dist-packages (from requests<3,>=2.27.0->tweepy) (3.10)\n",
            "Requirement already satisfied: urllib3<3,>=1.21.1 in /usr/local/lib/python3.11/dist-packages (from requests<3,>=2.27.0->tweepy) (2.3.0)\n",
            "Requirement already satisfied: certifi>=2017.4.17 in /usr/local/lib/python3.11/dist-packages (from requests<3,>=2.27.0->tweepy) (2025.1.31)\n"
          ]
        }
      ]
    },
    {
      "cell_type": "code",
      "execution_count": null,
      "metadata": {
        "id": "vW7t3Pj_vPxC",
        "outputId": "60df13ff-166f-4962-f233-d1c8b42eb9f7",
        "colab": {
          "base_uri": "https://localhost:8080/"
        }
      },
      "outputs": [
        {
          "output_type": "stream",
          "name": "stderr",
          "text": [
            "WARNING:tweepy.client:Rate limit exceeded. Sleeping for 822 seconds.\n"
          ]
        }
      ],
      "source": [
        "import tweepy\n",
        "import pandas as pd\n",
        "\n",
        "# Replace this with your Bearer Token\n",
        "bearer_token = \"AAAAAAAAAAAAAAAAAAAAAB0I0QEAAAAAYFknIYAMGK2lIugbPefsRmY%2Fb4M%3DxlUXyR6pVVorftoEqRtpu7bNb6xSkke1hA1C14zxXYnV5xspco\"\n",
        "\n",
        "# Set up client with bearer token\n",
        "client = tweepy.Client(bearer_token=bearer_token, wait_on_rate_limit=True)\n",
        "\n",
        "# Search query (Twitter API v2 syntax is similar)\n",
        "search_query = \"ref world cup -is:retweet -is:reply -has:links\"\n",
        "\n",
        "# Fetch tweets using API v2\n",
        "# Lookup a user by username\n",
        "username = \"elonmusk\"\n",
        "user = client.get_user(username=username, user_fields=[\"created_at\", \"description\", \"public_metrics\", \"verified\"])\n",
        "\n",
        "# Print user info\n",
        "print(\"Username:\", user.data.username)\n",
        "print(\"Name:\", user.data.name)\n",
        "print(\"Created at:\", user.data.created_at)\n",
        "print(\"Followers:\", user.data.public_metrics[\"followers_count\"])\n",
        "print(\"Verified:\", user.data.verified)\n",
        "\n"
      ]
    },
    {
      "cell_type": "code",
      "execution_count": null,
      "metadata": {
        "id": "SxsJaggQxuTZ",
        "collapsed": true
      },
      "outputs": [],
      "source": [
        "tweets_df"
      ]
    },
    {
      "cell_type": "code",
      "source": [
        "tweets[0]"
      ],
      "metadata": {
        "id": "utNXrcjA_MPr",
        "collapsed": true
      },
      "execution_count": null,
      "outputs": []
    },
    {
      "cell_type": "code",
      "execution_count": null,
      "metadata": {
        "id": "Z5Uwr22WSiMH"
      },
      "outputs": [],
      "source": [
        "from google.colab import files\n",
        "tweets_df.to_csv('tweets.csv')\n",
        "files.download('tweets.csv')"
      ]
    }
  ],
  "metadata": {
    "colab": {
      "provenance": [],
      "include_colab_link": true
    },
    "kernelspec": {
      "display_name": "Python 3",
      "name": "python3"
    },
    "language_info": {
      "name": "python"
    }
  },
  "nbformat": 4,
  "nbformat_minor": 0
}